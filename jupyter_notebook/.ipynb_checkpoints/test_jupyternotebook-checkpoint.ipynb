{
 "cells": [
  {
   "cell_type": "markdown",
   "id": "bd31fc3e-57a2-45e6-9773-84ff793fdb36",
   "metadata": {},
   "source": [
    "# Python ka chilla \n",
    "## How to use jupyter note Book\n",
    "### Basics of python\n",
    "\n",
    "# 01-My first program"
   ]
  },
  {
   "cell_type": "code",
   "execution_count": 2,
   "id": "7072d8d2-6bb1-4e00-846e-2e6e6e647946",
   "metadata": {},
   "outputs": [
    {
     "name": "stdout",
     "output_type": "stream",
     "text": [
      "5\n",
      "Hello word\n",
      "we are learning python python with ammara\n"
     ]
    }
   ],
   "source": [
    "print(2+3)\n",
    "print(\"Hello word\")\n",
    "print(\"we are learning python python with ammara\")"
   ]
  },
  {
   "cell_type": "markdown",
   "id": "b9a7bc60-c4e1-4e8f-842e-1c48f01e8187",
   "metadata": {},
   "source": [
    "# 02- Operators"
   ]
  },
  {
   "cell_type": "code",
   "execution_count": 4,
   "id": "4a17ab5c-21f9-45bf-b8be-5c1c576f7fcd",
   "metadata": {},
   "outputs": [
    {
     "name": "stdout",
     "output_type": "stream",
     "text": [
      "4\n",
      "4\n",
      "1.0\n",
      "1\n",
      "8\n"
     ]
    }
   ],
   "source": [
    "print(2+2) # hashtag stands for comment in python. means jab hashtag \n",
    "# tou code mai wo chz run nhi hoge.\n",
    "print(2*2)\n",
    "print(2/2) # single back slash means k answer points(floting points) mai ay ga.\n",
    "print(2//2) #// means k answer point mai nhi ay ga ik whole number hoga\n",
    "print(2**3)# ** means the power of the number\n",
    "# python solve the operators in the seq \"PEMDAS\" means (prenthesis, exponents,\n",
    "#  multiplication,devision, addition, sunstraction)"
   ]
  },
  {
   "cell_type": "markdown",
   "id": "5ccdbc3c-3e8b-42ac-9d91-8328d1077481",
   "metadata": {},
   "source": [
    "# 03- Strings"
   ]
  },
  {
   "cell_type": "code",
   "execution_count": 9,
   "id": "890ffeca-a45f-44fd-b1b1-e71318aef489",
   "metadata": {
    "scrolled": true
   },
   "outputs": [
    {
     "name": "stdout",
     "output_type": "stream",
     "text": [
      "7\n",
      "Hello word\n",
      "test double quotes\n",
      "test single quotes\n",
      "test triple quotes\n"
     ]
    }
   ],
   "source": [
    "print(2+5)\n",
    "print(\"Hello word\")\n",
    "print(\"test double quotes\")\n",
    "print('test single quotes')\n",
    "print('''test triple quotes''')\n",
    "# single('), double(\"), and triple quotes(''')all have the same meanings and all are called the strings.\n",
    "# string k ander spaces ka effect hota h, lkin string k bahir prenthsis k ander spaces ka koi effect nhi hota"
   ]
  },
  {
   "cell_type": "markdown",
   "id": "44c6e8d8-6f21-4469-a4d0-0b088fa35e8e",
   "metadata": {},
   "source": [
    "# 04- Comments"
   ]
  },
  {
   "cell_type": "code",
   "execution_count": 13,
   "id": "2a50871d-cb7c-4ddf-b477-735eea230f0a",
   "metadata": {},
   "outputs": [
    {
     "name": "stdout",
     "output_type": "stream",
     "text": [
      "5\n",
      "Hello word\n",
      "test double quotes\n"
     ]
    }
   ],
   "source": [
    "print(2+3) #operators are applying\n",
    "print(\"Hello word\") #strings are applyling\n",
    "print(\"test double quotes\")# single ,double even triple quotes all have same meaningsb"
   ]
  },
  {
   "cell_type": "markdown",
   "id": "88c04750-9b8c-45c7-bbf2-795c1c292e8f",
   "metadata": {},
   "source": [
    "# 05- Variables"
   ]
  },
  {
   "cell_type": "code",
   "execution_count": 15,
   "id": "1a4a72b3-bfb7-4df1-98a3-5eb3a04f3e94",
   "metadata": {},
   "outputs": [
    {
     "name": "stdout",
     "output_type": "stream",
     "text": [
      "5\n",
      "we are learning python with ammara\n",
      "15\n",
      "<class 'int'>\n",
      "<class 'str'>\n",
      "<class 'str'>\n"
     ]
    }
   ],
   "source": [
    "# Variables: object containg specific values\n",
    "x=5 # integer value or numeric value\n",
    "print(x)\n",
    "y=(\"we are learning python with ammara\")\n",
    "print(y) # y is a string here\n",
    "x=x+10 # we can write x=15\n",
    "print(x)\n",
    "#types of variable\n",
    "print(type(x))# type btatye ge k x ik number h ya integer\n",
    "print(type(y)) # y ik string h\n",
    "\n",
    "\n",
    "     ## Rules to assinging a variables\n",
    "     # 1.  the variables should contains letters, numbers or underscore\n",
    "     # 2.  do not start with a number\n",
    "     # 3.  spaces are not allowed\n",
    "     # 4.  short and distriptive\n",
    "     # 5.  Do not used key words used in the function like(break,mean, median,mode etc)\n",
    "     # 6.  Case senstivity (try to use lower case letter means small letters)\n",
    "fruit_bascuit=(\"mangoes\")\n",
    "print(type(fruit_bascuit))"
   ]
  },
  {
   "cell_type": "markdown",
   "id": "6c6f2739-dfd0-4d99-957b-439353f30885",
   "metadata": {},
   "source": [
    "# 06-Input variables"
   ]
  },
  {
   "cell_type": "code",
   "execution_count": null,
   "id": "20501e98-ae78-423e-914d-51020ddeb7d8",
   "metadata": {},
   "outputs": [
    {
     "name": "stdout",
     "output_type": "stream",
     "text": [
      "fruit_bascuit\n"
     ]
    }
   ],
   "source": [
    "fruit_bascuit=\"mangoes\"\n",
    "print(\"fruit_bascuit\")\n",
    "# input function simple\n",
    "fruit_bascuit=input(\"what is your favourit fruit\")\n",
    "print(\"fruit_bascuit\")\n",
    "#input funtion of 2nd stage\n",
    "name=input(\"what is your name\")\n",
    "greetings = \"hello!\"\n",
    "print(greetings , name, \" you are still young\")"
   ]
  },
  {
   "cell_type": "markdown",
   "id": "114a8f06-6b1d-4026-93c8-82334960ab1f",
   "metadata": {},
   "source": [
    "# 07- Conditional logics"
   ]
  },
  {
   "cell_type": "code",
   "execution_count": null,
   "id": "cdf878ea-74f0-443e-a2a1-84a4f2faa111",
   "metadata": {},
   "outputs": [],
   "source": [
    "# Logical operators are simply \"true or false, yes or no, 0 or 1\"\n",
    "# equal to                                          == \n",
    "# not equal to                                      !=\n",
    "# less then                                         <\n",
    "# greater then                                      >\n",
    "# less then and equal to                            <=\n",
    "# greater then and equal to                         >=\n",
    "print(4==4)\n",
    "print(4!=4)\n",
    "print(5<=8)\n",
    "print(5>6)\n",
    "age_at_school=5\n",
    "hammad_age=input(\"how old is hammad ?  \")\n",
    "hammad_age=int(hammad_age) # otherwise 5 will be used as string\n",
    "print(hammad_age==age_at_school)"
   ]
  },
  {
   "cell_type": "markdown",
   "id": "0567eb92-529c-4118-9653-fcbdc6588eb4",
   "metadata": {},
   "source": [
    "# 08- Type Conversion"
   ]
  },
  {
   "cell_type": "code",
   "execution_count": null,
   "id": "882a6132-bf04-45ff-bb03-1a1623274fce",
   "metadata": {},
   "outputs": [],
   "source": [
    "# Implicite type conversion\n",
    "x=5 # x is an integer\n",
    "y=10.2 #Y is a floting point(decimal)\n",
    "z=\"hello\" # z is a string\n",
    "x=x*y\n",
    "print(x, \"type of x is:\", type(x))\n",
    "\n",
    "# Explicite type conversion\n",
    "age=input(\"what is your age? \")\n",
    "print(age, type(int(age)))"
   ]
  },
  {
   "cell_type": "markdown",
   "id": "e5b97710-1630-4109-abf8-5b4b9cefac8a",
   "metadata": {},
   "source": [
    "# 09-if else and elif statments"
   ]
  },
  {
   "cell_type": "code",
   "execution_count": null,
   "id": "e70182c5-80ca-4cc1-9b94-13a4c7523409",
   "metadata": {},
   "outputs": [],
   "source": [
    "kainat_age=5\n",
    "age_at_school=10\n",
    "if kainat_age==age_at_school:\n",
    "    print(\"she can go to school\")\n",
    "elif kainat_age<age_at_school:\n",
    "    print(\"she cannot go to school\")\n",
    "else:\n",
    "    print(\"we are very sorry\")        "
   ]
  },
  {
   "cell_type": "markdown",
   "id": "9c75f105-54e0-4316-a8f2-875eed496095",
   "metadata": {},
   "source": [
    "# 10- functions"
   ]
  },
  {
   "cell_type": "code",
   "execution_count": null,
   "id": "3fe6bd8c-dfaf-4311-88c9-72a0416e42f6",
   "metadata": {},
   "outputs": [],
   "source": [
    "# Defining a function:\n",
    "# 01\n",
    "def print_codanics():\n",
    "    print(\"we are learning python with ammara\")\n",
    "    print(\"we are learning python with ammara\")\n",
    "    print(\"we are learning python with ammara\")\n",
    "print_codanics()\n",
    "# 02\n",
    "def print_codanics():\n",
    "    text=\"we are learning python with ammara\"\n",
    "    print(text)\n",
    "    print(text)\n",
    "    print(text)\n",
    "print_codanics()\n",
    "# 03\n",
    "def print_codanics(text):\n",
    "    print(text) \n",
    "    print(text)\n",
    "    print(text)\n",
    "print_codanics(\"we are learning python with ammara\")  \n",
    "\n",
    " # defining a function with if elif and else statment\n",
    "def school_calculator(age):\n",
    "    if age==5:\n",
    "        print(\"kainat can go to school\")\n",
    "    elif age>5:\n",
    "        print(\"kainat should go to higher school\")\n",
    "    else:\n",
    "        print(\"we are feeling sorry\")\n",
    "    school_calculator(6)            "
   ]
  },
  {
   "cell_type": "markdown",
   "id": "e12c6540-22f1-4800-8f73-0ba079ab71a1",
   "metadata": {},
   "source": [
    "# 11- Loops"
   ]
  },
  {
   "cell_type": "code",
   "execution_count": null,
   "id": "4853ac0e-5b00-48dc-a88c-2fa8b110c08d",
   "metadata": {},
   "outputs": [],
   "source": [
    "# while and for loop\n",
    "# while loop\n",
    "x=0\n",
    "while (x<5):\n",
    "    print(x)\n",
    "    x=x+1 #yahan x+1 likhna zrori h otherwise x bar bar repeat hota rhy ga isko infinit loop kehty  hain\n",
    "for x in range(4, 11):\n",
    "    print(x)\n",
    "# Array data set\n",
    "days=[\"mon\", \"tues\",\"wed\", \"thur\", \"fri\", \"sat\",\"sun\"]\n",
    "for d in days:\n",
    "    if(d==\"fri\"):break # then the loop will stop\n",
    "    if(d==\"fri\"):continue # skip d\n",
    "    print(d)        "
   ]
  },
  {
   "cell_type": "markdown",
   "id": "0f0f867c-17ee-421c-983c-26e432470b46",
   "metadata": {},
   "source": [
    "# 12- Import Libraries"
   ]
  },
  {
   "cell_type": "code",
   "execution_count": null,
   "id": "b696d57a-cd65-4842-b88c-031748c2e9a8",
   "metadata": {},
   "outputs": [],
   "source": [
    "# if we want to print the value of pi\n",
    "import math\n",
    "print(\"the value of pi is \", math.pi)\n",
    "import statistics\n",
    "x=[150,250,350,450]\n",
    "print(statistics.mean(x))\n",
    "# import libraries are numpy, pandas"
   ]
  },
  {
   "cell_type": "markdown",
   "id": "e4a08312-2025-46fd-af35-0500e923d411",
   "metadata": {},
   "source": [
    "# 13- trouble shooting"
   ]
  },
  {
   "cell_type": "code",
   "execution_count": null,
   "id": "60a876e5-1ac9-4952-b51a-7d02f7c29472",
   "metadata": {},
   "outputs": [],
   "source": [
    "#print(we are learning python with ammara) # we are not using commas here so it is syntax error\n",
    "print(25/0) #devided by zero is run time error\n",
    "name=\"ammara\"\n",
    "print(\"hello name\") # this error is called symentic error but the correct thing is\n",
    "print(\"hello\", name) # + is used to remove the space"
   ]
  }
 ],
 "metadata": {
  "kernelspec": {
   "display_name": "Python 3 (ipykernel)",
   "language": "python",
   "name": "python3"
  },
  "language_info": {
   "codemirror_mode": {
    "name": "ipython",
    "version": 3
   },
   "file_extension": ".py",
   "mimetype": "text/x-python",
   "name": "python",
   "nbconvert_exporter": "python",
   "pygments_lexer": "ipython3",
   "version": "3.12.4"
  }
 },
 "nbformat": 4,
 "nbformat_minor": 5
}
