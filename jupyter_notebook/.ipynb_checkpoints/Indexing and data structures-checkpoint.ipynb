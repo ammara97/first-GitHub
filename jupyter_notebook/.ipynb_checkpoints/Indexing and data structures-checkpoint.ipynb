{
 "cells": [
  {
   "cell_type": "markdown",
   "id": "d5d17bc7-410f-4f09-94b9-4a946366f880",
   "metadata": {},
   "source": [
    "# Indexung"
   ]
  },
  {
   "cell_type": "code",
   "execution_count": 2,
   "id": "6c84cffe-b221-4782-87ed-38e707ae5889",
   "metadata": {},
   "outputs": [
    {
     "data": {
      "text/plain": [
       "'samosa pakora'"
      ]
     },
     "execution_count": 2,
     "metadata": {},
     "output_type": "execute_result"
    }
   ],
   "source": [
    "a=\"samosa pakora\"\n",
    "a"
   ]
  },
  {
   "cell_type": "code",
   "execution_count": 3,
   "id": "27ea065e-a281-4b1a-8ffb-4a0779edddbb",
   "metadata": {},
   "outputs": [
    {
     "data": {
      "text/plain": [
       "'s'"
      ]
     },
     "execution_count": 3,
     "metadata": {},
     "output_type": "execute_result"
    }
   ],
   "source": [
    "a[0]"
   ]
  },
  {
   "cell_type": "code",
   "execution_count": 4,
   "id": "1b70a000-0570-4e28-940c-2dc942281e7b",
   "metadata": {},
   "outputs": [
    {
     "data": {
      "text/plain": [
       "'a'"
      ]
     },
     "execution_count": 4,
     "metadata": {},
     "output_type": "execute_result"
    }
   ],
   "source": [
    "a[1]"
   ]
  },
  {
   "cell_type": "code",
   "execution_count": 5,
   "id": "e1933d3a-0c5d-40f0-8d84-60caaf894d98",
   "metadata": {},
   "outputs": [
    {
     "data": {
      "text/plain": [
       "'o'"
      ]
     },
     "execution_count": 5,
     "metadata": {},
     "output_type": "execute_result"
    }
   ],
   "source": [
    "a[3] "
   ]
  },
  {
   "cell_type": "code",
   "execution_count": 12,
   "id": "0ee7e6a4-4d55-427b-b70d-559e97febfd5",
   "metadata": {},
   "outputs": [
    {
     "data": {
      "text/plain": [
       "13"
      ]
     },
     "execution_count": 12,
     "metadata": {},
     "output_type": "execute_result"
    }
   ],
   "source": [
    "# lengh of indeces\n",
    "len(a)"
   ]
  },
  {
   "cell_type": "code",
   "execution_count": 14,
   "id": "cb8b990a-5446-460a-a395-35ce5f9a30d9",
   "metadata": {},
   "outputs": [
    {
     "data": {
      "text/plain": [
       "'samosa'"
      ]
     },
     "execution_count": 14,
     "metadata": {},
     "output_type": "execute_result"
    }
   ],
   "source": [
    "a[0:6]"
   ]
  },
  {
   "cell_type": "code",
   "execution_count": 16,
   "id": "e73742c7-300f-4919-9266-4eb2505126f3",
   "metadata": {},
   "outputs": [
    {
     "data": {
      "text/plain": [
       "'a'"
      ]
     },
     "execution_count": 16,
     "metadata": {},
     "output_type": "execute_result"
    }
   ],
   "source": [
    "# minus likhny ka mtlb h k number ult side sai count hona shoro hon gy\n",
    "a[-1]"
   ]
  },
  {
   "cell_type": "code",
   "execution_count": 18,
   "id": "e10ebe22-80cc-49ca-92c0-9f2a06d89837",
   "metadata": {},
   "outputs": [
    {
     "data": {
      "text/plain": [
       "'r'"
      ]
     },
     "execution_count": 18,
     "metadata": {},
     "output_type": "execute_result"
    }
   ],
   "source": [
    "a[-2]"
   ]
  },
  {
   "cell_type": "markdown",
   "id": "2cc1bbff-f98a-49e2-8de4-206f264ec0ba",
   "metadata": {},
   "source": [
    "# String method"
   ]
  },
  {
   "cell_type": "code",
   "execution_count": 23,
   "id": "fd0fdc4b-d903-4cd4-826a-a3b1d32103ba",
   "metadata": {},
   "outputs": [
    {
     "data": {
      "text/plain": [
       "'beryani'"
      ]
     },
     "execution_count": 23,
     "metadata": {},
     "output_type": "execute_result"
    }
   ],
   "source": [
    "food= \"beryani\"\n",
    "food"
   ]
  },
  {
   "cell_type": "code",
   "execution_count": 27,
   "id": "69b40467-8589-40b1-ae19-ab439b325104",
   "metadata": {},
   "outputs": [
    {
     "data": {
      "text/plain": [
       "'Beryani'"
      ]
     },
     "execution_count": 27,
     "metadata": {},
     "output_type": "execute_result"
    }
   ],
   "source": [
    "food.capitalize()"
   ]
  },
  {
   "cell_type": "code",
   "execution_count": 29,
   "id": "cd2d7251-d1ad-4f96-b8a6-1d5fae394863",
   "metadata": {},
   "outputs": [
    {
     "data": {
      "text/plain": [
       "'BERYANI'"
      ]
     },
     "execution_count": 29,
     "metadata": {},
     "output_type": "execute_result"
    }
   ],
   "source": [
    "# sary lfz bary ho gay\n",
    "food.upper()"
   ]
  },
  {
   "cell_type": "code",
   "execution_count": 31,
   "id": "4681c06e-4ed4-4c58-9cc2-ecbe82ec233a",
   "metadata": {},
   "outputs": [
    {
     "data": {
      "text/plain": [
       "'beryani'"
      ]
     },
     "execution_count": 31,
     "metadata": {},
     "output_type": "execute_result"
    }
   ],
   "source": [
    "food.lower()"
   ]
  },
  {
   "cell_type": "code",
   "execution_count": 35,
   "id": "c7640db1-121b-460c-8993-e5b9e08c24e0",
   "metadata": {},
   "outputs": [
    {
     "data": {
      "text/plain": [
       "'baba ammar with baba ammar tufail'"
      ]
     },
     "execution_count": 35,
     "metadata": {},
     "output_type": "execute_result"
    }
   ],
   "source": [
    "# counting a specific alfabat in a string\n",
    "name= \"baba ammar with baba ammar tufail\"\n",
    "name"
   ]
  },
  {
   "cell_type": "code",
   "execution_count": 37,
   "id": "53d798c8-915e-499c-aada-a47fb847f8cd",
   "metadata": {},
   "outputs": [
    {
     "data": {
      "text/plain": [
       "9"
      ]
     },
     "execution_count": 37,
     "metadata": {},
     "output_type": "execute_result"
    }
   ],
   "source": [
    "name.count(\"a\")"
   ]
  },
  {
   "cell_type": "markdown",
   "id": "3dcafb53-694a-447a-b3e4-99fd75cc7699",
   "metadata": {},
   "source": [
    "# finding an index number in a string"
   ]
  },
  {
   "cell_type": "code",
   "execution_count": 40,
   "id": "041df4b7-2acd-4527-8d8c-113aa51bec59",
   "metadata": {},
   "outputs": [
    {
     "data": {
      "text/plain": [
       "'baba ammar with baba ammar tufail'"
      ]
     },
     "execution_count": 40,
     "metadata": {},
     "output_type": "execute_result"
    }
   ],
   "source": [
    "name= \"baba ammar with baba ammar tufail\"\n",
    "name"
   ]
  },
  {
   "cell_type": "code",
   "execution_count": 44,
   "id": "34dfd754-c03b-4329-9e79-ac6202753144",
   "metadata": {},
   "outputs": [
    {
     "data": {
      "text/plain": [
       "13"
      ]
     },
     "execution_count": 44,
     "metadata": {},
     "output_type": "execute_result"
    }
   ],
   "source": [
    "name.find(\"t\")"
   ]
  },
  {
   "cell_type": "markdown",
   "id": "f81d877a-00c5-4d05-813c-70b0abf625b8",
   "metadata": {},
   "source": [
    "# How to split a string"
   ]
  },
  {
   "cell_type": "code",
   "execution_count": 47,
   "id": "42875bd4-bf52-475f-9dba-62d7941f52db",
   "metadata": {},
   "outputs": [
    {
     "data": {
      "text/plain": [
       "' I love samosa , pakora ,raita, beryani and karhae'"
      ]
     },
     "execution_count": 47,
     "metadata": {},
     "output_type": "execute_result"
    }
   ],
   "source": [
    "food=\" I love samosa , pakora ,raita, beryani and karhae\"\n",
    "food"
   ]
  },
  {
   "cell_type": "code",
   "execution_count": 49,
   "id": "97316447-599e-4d63-a571-1a3faa31e4e6",
   "metadata": {},
   "outputs": [
    {
     "data": {
      "text/plain": [
       "[' I love samosa ', ' pakora ', 'raita', ' beryani and karhae']"
      ]
     },
     "execution_count": 49,
     "metadata": {},
     "output_type": "execute_result"
    }
   ],
   "source": [
    "food.split(\",\")"
   ]
  },
  {
   "cell_type": "markdown",
   "id": "fe87ba5f-5422-4306-afd7-c76b9a43c0ca",
   "metadata": {},
   "source": [
    "# basic data structure in python\n",
    "## 1- tuple\n",
    "## 2- list\n",
    "## 3- Dictionary\n",
    "## 4- set "
   ]
  },
  {
   "cell_type": "markdown",
   "id": "da41c2ce-493d-483c-8760-f62f665bb1d6",
   "metadata": {},
   "source": [
    "## 1- Tuple\n",
    "- Order collection of elements\n",
    "\n",
    "- enclosed in round brackets ()\n",
    "\n",
    "- Different kind of elements can be stored \n",
    "\n",
    "- once the element is saved then it cannot be changed (unmutable)"
   ]
  },
  {
   "cell_type": "code",
   "execution_count": 1,
   "id": "b7b8c7b7-bca4-468a-8419-f5ffd84311b1",
   "metadata": {},
   "outputs": [
    {
     "data": {
      "text/plain": [
       "(1, 'python', True, 2.5)"
      ]
     },
     "execution_count": 1,
     "metadata": {},
     "output_type": "execute_result"
    }
   ],
   "source": [
    "tup1=(1, \"python\", True, 2.5)\n",
    "tup1"
   ]
  },
  {
   "cell_type": "code",
   "execution_count": 2,
   "id": "d9542a64-a87c-42eb-a271-966723e1f1a7",
   "metadata": {},
   "outputs": [
    {
     "data": {
      "text/plain": [
       "tuple"
      ]
     },
     "execution_count": 2,
     "metadata": {},
     "output_type": "execute_result"
    }
   ],
   "source": [
    "# type of tuple\n",
    "type(tup1)"
   ]
  },
  {
   "cell_type": "markdown",
   "id": "d057aa37-0fcb-4adf-ad5c-85dea779e9dd",
   "metadata": {},
   "source": [
    "### Indexing in tuple"
   ]
  },
  {
   "cell_type": "code",
   "execution_count": 3,
   "id": "b83d0b59-ebff-460e-b839-dd0de9cb5e69",
   "metadata": {},
   "outputs": [
    {
     "data": {
      "text/plain": [
       "'python'"
      ]
     },
     "execution_count": 3,
     "metadata": {},
     "output_type": "execute_result"
    }
   ],
   "source": [
    "tup1[1]"
   ]
  },
  {
   "cell_type": "code",
   "execution_count": null,
   "id": "49df9e27-17aa-4f57-970d-b1ed2d520e4f",
   "metadata": {},
   "outputs": [],
   "source": [
    "# In python indexing starts from zero so here number zero is \n",
    "1, and number 1 is python"
   ]
  },
  {
   "cell_type": "code",
   "execution_count": 5,
   "id": "cd0897c0-7d4c-41fb-8207-6cb1e9beb1f9",
   "metadata": {},
   "outputs": [
    {
     "data": {
      "text/plain": [
       "(1, 'python', True)"
      ]
     },
     "execution_count": 5,
     "metadata": {},
     "output_type": "execute_result"
    }
   ],
   "source": [
    "# In python last element is exclusive\n",
    "tup1[0:3]\n"
   ]
  },
  {
   "cell_type": "code",
   "execution_count": 6,
   "id": "f63fa1d3-b719-46c4-a155-185cb483c350",
   "metadata": {},
   "outputs": [
    {
     "data": {
      "text/plain": [
       "4"
      ]
     },
     "execution_count": 6,
     "metadata": {},
     "output_type": "execute_result"
    }
   ],
   "source": [
    "len(tup1)"
   ]
  },
  {
   "cell_type": "code",
   "execution_count": 8,
   "id": "77c78b7e-d88d-459e-b1dc-88e5b6880197",
   "metadata": {},
   "outputs": [
    {
     "data": {
      "text/plain": [
       "(2, 'baba Ammar', 2.5, False)"
      ]
     },
     "execution_count": 8,
     "metadata": {},
     "output_type": "execute_result"
    }
   ],
   "source": [
    "tup2=(2,\"baba Ammar\", 2.5, False)\n",
    "tup2"
   ]
  },
  {
   "cell_type": "code",
   "execution_count": 9,
   "id": "dad79211-74f0-442c-a748-974b280d780d",
   "metadata": {},
   "outputs": [
    {
     "data": {
      "text/plain": [
       "(1, 'python', True, 2.5, 2, 'baba Ammar', 2.5, False)"
      ]
     },
     "execution_count": 9,
     "metadata": {},
     "output_type": "execute_result"
    }
   ],
   "source": [
    "# concatinate (plus krna)\n",
    "tup1+tup2"
   ]
  },
  {
   "cell_type": "code",
   "execution_count": 10,
   "id": "145f7898-bd4f-4474-b36b-de2440b8ed39",
   "metadata": {},
   "outputs": [
    {
     "data": {
      "text/plain": [
       "(1, 'python', True, 2.5, 1, 'python', True, 2.5, 2, 'baba Ammar', 2.5, False)"
      ]
     },
     "execution_count": 10,
     "metadata": {},
     "output_type": "execute_result"
    }
   ],
   "source": [
    "tup1*2+tup2"
   ]
  },
  {
   "cell_type": "code",
   "execution_count": 11,
   "id": "750b015c-6dad-4472-89fe-c526e5f4854c",
   "metadata": {},
   "outputs": [
    {
     "data": {
      "text/plain": [
       "(20, 30, 40, 50, 79, 58)"
      ]
     },
     "execution_count": 11,
     "metadata": {},
     "output_type": "execute_result"
    }
   ],
   "source": [
    "tup3=(20,30,40,50,79,58)\n",
    "tup3"
   ]
  },
  {
   "cell_type": "code",
   "execution_count": 12,
   "id": "834c51d5-6877-4303-b301-afb9078c8d49",
   "metadata": {},
   "outputs": [
    {
     "data": {
      "text/plain": [
       "20"
      ]
     },
     "execution_count": 12,
     "metadata": {},
     "output_type": "execute_result"
    }
   ],
   "source": [
    "min(tup3)"
   ]
  },
  {
   "cell_type": "code",
   "execution_count": 13,
   "id": "b4aee9e8-1062-4bf3-a16d-1ed5ef323b93",
   "metadata": {},
   "outputs": [
    {
     "data": {
      "text/plain": [
       "79"
      ]
     },
     "execution_count": 13,
     "metadata": {},
     "output_type": "execute_result"
    }
   ],
   "source": [
    "max(tup3)"
   ]
  },
  {
   "cell_type": "markdown",
   "id": "c841a65d-fbb2-4ad9-ba38-453655383a14",
   "metadata": {},
   "source": [
    "---"
   ]
  },
  {
   "cell_type": "markdown",
   "id": "d5c55dc1-cb9e-44d4-b297-7309810263bb",
   "metadata": {},
   "source": [
    "## 2-List\n",
    "- order collection of elements\n",
    "- enclosed in the square brackets [ ]\n",
    "- Mutatable, You can changes the values in the the brackets"
   ]
  },
  {
   "cell_type": "code",
   "execution_count": 14,
   "id": "856fab82-071b-421f-8c5e-71096fea2578",
   "metadata": {},
   "outputs": [
    {
     "data": {
      "text/plain": [
       "[2, 'ammara', False]"
      ]
     },
     "execution_count": 14,
     "metadata": {},
     "output_type": "execute_result"
    }
   ],
   "source": [
    "list1=[2, \"ammara\", False]\n",
    "list1"
   ]
  },
  {
   "cell_type": "code",
   "execution_count": 15,
   "id": "7118c7de-6266-4dad-b6ac-6ea494127873",
   "metadata": {},
   "outputs": [
    {
     "data": {
      "text/plain": [
       "list"
      ]
     },
     "execution_count": 15,
     "metadata": {},
     "output_type": "execute_result"
    }
   ],
   "source": [
    "type(list1)"
   ]
  },
  {
   "cell_type": "code",
   "execution_count": 16,
   "id": "9f7425cb-1d92-4f41-95fc-d921a7e00815",
   "metadata": {},
   "outputs": [
    {
     "data": {
      "text/plain": [
       "3"
      ]
     },
     "execution_count": 16,
     "metadata": {},
     "output_type": "execute_result"
    }
   ],
   "source": [
    "len(list1)"
   ]
  },
  {
   "cell_type": "code",
   "execution_count": 17,
   "id": "ac45743e-5b0d-453c-b069-98cb4a16704b",
   "metadata": {},
   "outputs": [
    {
     "data": {
      "text/plain": [
       "'ammara'"
      ]
     },
     "execution_count": 17,
     "metadata": {},
     "output_type": "execute_result"
    }
   ],
   "source": [
    "list1[1]"
   ]
  },
  {
   "cell_type": "code",
   "execution_count": 18,
   "id": "ba56b5b5-27af-40f3-96be-33ad327b2777",
   "metadata": {},
   "outputs": [
    {
     "data": {
      "text/plain": [
       "[2, 4, 'baba ammar', 50.2, False]"
      ]
     },
     "execution_count": 18,
     "metadata": {},
     "output_type": "execute_result"
    }
   ],
   "source": [
    "list2=[2,4,\"baba ammar\", 50.2, False]\n",
    "list2"
   ]
  },
  {
   "cell_type": "code",
   "execution_count": 19,
   "id": "37e8e416-ac2e-44ba-873a-60075f05e739",
   "metadata": {},
   "outputs": [
    {
     "data": {
      "text/plain": [
       "[2, 'ammara', False, 2, 4, 'baba ammar', 50.2, False]"
      ]
     },
     "execution_count": 19,
     "metadata": {},
     "output_type": "execute_result"
    }
   ],
   "source": [
    "list1+list2"
   ]
  },
  {
   "cell_type": "code",
   "execution_count": 22,
   "id": "bee85f8f-148d-44fd-a159-fc6259764ec2",
   "metadata": {},
   "outputs": [
    {
     "data": {
      "text/plain": [
       "[False, 50.2, 'baba ammar', 4, 2]"
      ]
     },
     "execution_count": 22,
     "metadata": {},
     "output_type": "execute_result"
    }
   ],
   "source": [
    "list2.reverse()\n",
    "list2"
   ]
  },
  {
   "cell_type": "code",
   "execution_count": 23,
   "id": "ebb0cf46-d8ab-479c-ae14-9e066bbd9c17",
   "metadata": {},
   "outputs": [
    {
     "data": {
      "text/plain": [
       "[2, 'ammara', False, 'hello']"
      ]
     },
     "execution_count": 23,
     "metadata": {},
     "output_type": "execute_result"
    }
   ],
   "source": [
    "# apend mean to add something\n",
    "list1.append(\"hello\")\n",
    "list1"
   ]
  },
  {
   "cell_type": "code",
   "execution_count": 24,
   "id": "15fbb157-863a-4cdc-a0d0-e7c7c33f207b",
   "metadata": {},
   "outputs": [
    {
     "data": {
      "text/plain": [
       "[7, 5, 10, 55, 98, 678, 20]"
      ]
     },
     "execution_count": 24,
     "metadata": {},
     "output_type": "execute_result"
    }
   ],
   "source": [
    "list3=[7,5,10,55,98,678,20]\n",
    "list3"
   ]
  },
  {
   "cell_type": "code",
   "execution_count": 25,
   "id": "61f072ca-424b-4d4b-bb0e-572a9c61a523",
   "metadata": {
    "scrolled": true
   },
   "outputs": [
    {
     "data": {
      "text/plain": [
       "[5, 7, 10, 20, 55, 98, 678]"
      ]
     },
     "execution_count": 25,
     "metadata": {},
     "output_type": "execute_result"
    }
   ],
   "source": [
    "# tarteeb sai likhny ko sort out krna kehty hain\n",
    "list3.sort()\n",
    "list3"
   ]
  },
  {
   "cell_type": "markdown",
   "id": "b27befeb-601d-43b5-9770-c113883f593e",
   "metadata": {},
   "source": [
    "## 3- Dictionary\n",
    "- An unordered collection of elements\n",
    "- enclosed in the curly brackets{ }\n",
    "- Keys and values\n",
    "- Mutateable, we can change the values "
   ]
  },
  {
   "cell_type": "code",
   "execution_count": 27,
   "id": "f1e4e86e-4791-4659-b01c-ab9a46126998",
   "metadata": {},
   "outputs": [
    {
     "data": {
      "text/plain": [
       "{'samosa': 30, 'pakora': 20, 'raita': 10, 'salad': 10, 'chicken rolls': 30}"
      ]
     },
     "execution_count": 27,
     "metadata": {},
     "output_type": "execute_result"
    }
   ],
   "source": [
    "# food and their prices, here samosa will be key and its price 30 will be value\n",
    "food1={\"samosa\":30,\"pakora\":20,\"raita\":10,\"salad\":10, \"chicken rolls\":30}\n",
    "food1"
   ]
  },
  {
   "cell_type": "code",
   "execution_count": 28,
   "id": "407cc231-0450-4623-87c3-4818b41c7fcf",
   "metadata": {
    "scrolled": true
   },
   "outputs": [
    {
     "data": {
      "text/plain": [
       "dict"
      ]
     },
     "execution_count": 28,
     "metadata": {},
     "output_type": "execute_result"
    }
   ],
   "source": [
    "type(food1)"
   ]
  },
  {
   "cell_type": "code",
   "execution_count": 31,
   "id": "a24ba99d-8f51-46c2-95cd-72b59c68d8db",
   "metadata": {},
   "outputs": [
    {
     "data": {
      "text/plain": [
       "dict_keys(['samosa', 'pakora', 'raita', 'salad', 'chicken rolls'])"
      ]
     },
     "execution_count": 31,
     "metadata": {},
     "output_type": "execute_result"
    }
   ],
   "source": [
    "# extract the data\n",
    "food1.keys()"
   ]
  },
  {
   "cell_type": "code",
   "execution_count": 32,
   "id": "fafb972d-4fc3-4a30-a953-5e102fc4dcb5",
   "metadata": {},
   "outputs": [
    {
     "data": {
      "text/plain": [
       "dict_values([30, 20, 10, 10, 30])"
      ]
     },
     "execution_count": 32,
     "metadata": {},
     "output_type": "execute_result"
    }
   ],
   "source": [
    "food1.values()"
   ]
  },
  {
   "cell_type": "code",
   "execution_count": 33,
   "id": "86d1217a-1d30-489f-afd1-aeae3a5085a2",
   "metadata": {},
   "outputs": [
    {
     "data": {
      "text/plain": [
       "{'samosa': 30,\n",
       " 'pakora': 20,\n",
       " 'raita': 10,\n",
       " 'salad': 10,\n",
       " 'chicken rolls': 30,\n",
       " 'tikki': 10}"
      ]
     },
     "execution_count": 33,
     "metadata": {},
     "output_type": "execute_result"
    }
   ],
   "source": [
    "# adding new element\n",
    "food1[\"tikki\"]=10\n",
    "food1"
   ]
  },
  {
   "cell_type": "code",
   "execution_count": 35,
   "id": "8ddbccd7-4dc9-40fa-91e9-04d0cf112011",
   "metadata": {},
   "outputs": [
    {
     "data": {
      "text/plain": [
       "{'samosa': 30,\n",
       " 'pakora': 20,\n",
       " 'raita': 10,\n",
       " 'salad': 10,\n",
       " 'chicken rolls': 30,\n",
       " 'tikki': 15}"
      ]
     },
     "execution_count": 35,
     "metadata": {},
     "output_type": "execute_result"
    }
   ],
   "source": [
    "# updating a value\n",
    "food1[\"tikki\"]=15\n",
    "food1"
   ]
  },
  {
   "cell_type": "code",
   "execution_count": null,
   "id": "14ae2fda-9f22-4175-aa7d-b6d718a5caa5",
   "metadata": {},
   "outputs": [],
   "source": [
    "# we cannot add dictinaries, to add them we have to use the update procedure in the tab"
   ]
  },
  {
   "cell_type": "markdown",
   "id": "1bccd4fe-b920-4df3-9dc7-98fb98be1bf5",
   "metadata": {},
   "source": [
    "## 4- Sets\n",
    "- Unordered and unindex elements\n",
    "- enclosed in the curly brackets\n",
    "- No duplicates are allowed"
   ]
  },
  {
   "cell_type": "code",
   "execution_count": 36,
   "id": "0872f2c3-b63b-4ab3-b400-30cf8aceb88e",
   "metadata": {},
   "outputs": [
    {
     "data": {
      "text/plain": [
       "{1, 2.2, 5.2, 'ammara', 'chakwal'}"
      ]
     },
     "execution_count": 36,
     "metadata": {},
     "output_type": "execute_result"
    }
   ],
   "source": [
    "# boolean opertaors cannot be used in this \n",
    "s1={1, 2.2, 5.2,\"ammara\", \"chakwal\", True}\n",
    "s1"
   ]
  },
  {
   "cell_type": "code",
   "execution_count": 37,
   "id": "bf91a639-b3af-479f-b374-2f7567091633",
   "metadata": {},
   "outputs": [
    {
     "data": {
      "text/plain": [
       "{1, 2.2, 5.2, 'ammara', 'chakwal'}"
      ]
     },
     "execution_count": 37,
     "metadata": {},
     "output_type": "execute_result"
    }
   ],
   "source": [
    "# no duplicate is allowed like agr mai is mai ammara dobara sai add krun ge tou wo print ik he bar hoga\n",
    "s1.add(\"ammara\")\n",
    "s1"
   ]
  }
 ],
 "metadata": {
  "kernelspec": {
   "display_name": "Python 3 (ipykernel)",
   "language": "python",
   "name": "python3"
  },
  "language_info": {
   "codemirror_mode": {
    "name": "ipython",
    "version": 3
   },
   "file_extension": ".py",
   "mimetype": "text/x-python",
   "name": "python",
   "nbconvert_exporter": "python",
   "pygments_lexer": "ipython3",
   "version": "3.12.4"
  }
 },
 "nbformat": 4,
 "nbformat_minor": 5
}
